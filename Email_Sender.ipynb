{
 "cells": [
  {
   "cell_type": "markdown",
   "metadata": {},
   "source": [
    "# Function to read contacts from file"
   ]
  },
  {
   "cell_type": "code",
   "execution_count": null,
   "metadata": {},
   "outputs": [],
   "source": [
    "def get_contact(filename):\n",
    "    # Creating list to store the name and email\n",
    "    names=[]\n",
    "    emails=[]\n",
    "    with open(filename,mode='r',encoding='utf-8') as receivers:\n",
    "        for receiver in receivers:\n",
    "            # the name and email in the file is in the form of\n",
    "            # name email\n",
    "            names.append(receiver.split()[0])\n",
    "            emails.append(receiver.split()[1])\n",
    "    return names,emails\n",
    "        \n",
    "    "
   ]
  }
 ],
 "metadata": {
  "kernelspec": {
   "display_name": "Python 3",
   "language": "python",
   "name": "python3"
  },
  "language_info": {
   "codemirror_mode": {
    "name": "ipython",
    "version": 3
   },
   "file_extension": ".py",
   "mimetype": "text/x-python",
   "name": "python",
   "nbconvert_exporter": "python",
   "pygments_lexer": "ipython3",
   "version": "3.7.4"
  }
 },
 "nbformat": 4,
 "nbformat_minor": 2
}
