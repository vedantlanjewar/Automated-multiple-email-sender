{
 "cells": [
  {
   "cell_type": "markdown",
   "metadata": {},
   "source": [
    "# Function to read contacts from file"
   ]
  },
  {
   "cell_type": "code",
   "execution_count": null,
   "metadata": {},
   "outputs": [],
   "source": [
    "def get_contact(filename):\n",
    "    # Creating list to store the name and email\n",
    "    names=[]\n",
    "    emails=[]\n",
    "    # with and as is normally used in replacement for try and catch \n",
    "    # it is normally used with files, we don't have to manually close the file with this\n",
    "    with open(filename,mode='r',encoding='utf-8') as receivers:\n",
    "        for receiver in receivers:\n",
    "            # the name and email in the file is in the form of\n",
    "            # name email\n",
    "            names.append(receiver.split()[0])\n",
    "            emails.append(receiver.split()[1])\n",
    "    return names,emails\n",
    "        \n",
    "    "
   ]
  },
  {
   "cell_type": "markdown",
   "metadata": {},
   "source": [
    " # Function to read a template file (body.txt) and return a template object"
   ]
  },
  {
   "cell_type": "code",
   "execution_count": null,
   "metadata": {},
   "outputs": [],
   "source": [
    "from string import Template\n",
    "# through this we can replace the ${} in the body of mail, with any text\n",
    "def read_template(filename):\n",
    "    with open(filename, 'r', encoding='utf-8') as template_file:\n",
    "        template_file_content = template_file.read()\n",
    "    return Template(template_file_content)\n"
   ]
  },
  {
   "cell_type": "markdown",
   "metadata": {},
   "source": [
    "# Creating an SMTP connection"
   ]
  },
  {
   "cell_type": "code",
   "execution_count": null,
   "metadata": {},
   "outputs": [],
   "source": [
    "#importing the module\n",
    "import smtplib\n",
    "\n",
    "# Creating an SMTP instance\n",
    "# you can search stmp host and port of your service provider online\n",
    "# for gmail, it is host='smtp.gmail.com' and port='465'\n",
    "inst=smtplib.SMTP(host='your_host_smtp_address_here',port='you_host_smtp_port_here')\n",
    "\n",
    "inst.starttls()\n",
    "# use your own address and password\n",
    "inst.login(your_email,password)"
   ]
  },
  {
   "cell_type": "markdown",
   "metadata": {},
   "source": [
    "# Fetching the contacts,email and the body of mail"
   ]
  },
  {
   "cell_type": "code",
   "execution_count": null,
   "metadata": {},
   "outputs": [],
   "source": [
    "names,email=get_contact('info.txt')\n",
    "message=read_template('body.txt')"
   ]
  }
 ],
 "metadata": {
  "kernelspec": {
   "display_name": "Python 3",
   "language": "python",
   "name": "python3"
  },
  "language_info": {
   "codemirror_mode": {
    "name": "ipython",
    "version": 3
   },
   "file_extension": ".py",
   "mimetype": "text/x-python",
   "name": "python",
   "nbconvert_exporter": "python",
   "pygments_lexer": "ipython3",
   "version": "3.7.4"
  }
 },
 "nbformat": 4,
 "nbformat_minor": 2
}
